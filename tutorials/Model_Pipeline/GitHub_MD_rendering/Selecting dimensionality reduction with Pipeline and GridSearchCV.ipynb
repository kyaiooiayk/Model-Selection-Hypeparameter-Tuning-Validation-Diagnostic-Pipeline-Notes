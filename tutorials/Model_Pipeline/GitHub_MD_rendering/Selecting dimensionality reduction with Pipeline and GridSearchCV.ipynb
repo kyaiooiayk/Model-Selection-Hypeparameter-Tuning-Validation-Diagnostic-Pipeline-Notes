{
 "cells": [
  {
   "cell_type": "markdown",
   "metadata": {},
   "source": [
    "# Introduction"
   ]
  },
  {
   "cell_type": "code",
   "execution_count": 1,
   "metadata": {},
   "outputs": [
    {
     "data": {
      "text/plain": [
       "'\\nWhat? Selecting dimensionality reduction with Pipeline and GridSearchCV\\n\\nReference: https://scikit-learn.org/stable/auto_examples/compose/plot_compare_reduction.html#sphx-glr-auto-examples-compose-plot-compare-reduction-py\\n'"
      ]
     },
     "execution_count": 1,
     "metadata": {},
     "output_type": "execute_result"
    }
   ],
   "source": [
    "\"\"\"\n",
    "What? Selecting dimensionality reduction with Pipeline and GridSearchCV\n",
    "\n",
    "Reference: https://scikit-learn.org/stable/auto_examples/compose/plot_compare_reduction.html#sphx-glr-auto-examples-compose-plot-compare-reduction-py\n",
    "\"\"\""
   ]
  },
  {
   "cell_type": "markdown",
   "metadata": {},
   "source": [
    "# Import"
   ]
  },
  {
   "cell_type": "code",
   "execution_count": 2,
   "metadata": {},
   "outputs": [],
   "source": [
    "import numpy as np\n",
    "import matplotlib.pyplot as plt\n",
    "from sklearn.datasets import load_digits\n",
    "from sklearn.model_selection import GridSearchCV\n",
    "from sklearn.pipeline import Pipeline\n",
    "from sklearn.svm import LinearSVC\n",
    "from sklearn.decomposition import PCA, NMF\n",
    "from sklearn.feature_selection import SelectKBest, chi2\n",
    "from joblib import Memory\n",
    "from shutil import rmtree\n",
    "# Getting rid of the warning messages\n",
    "import warnings\n",
    "warnings.filterwarnings(\"ignore\")"
   ]
  },
  {
   "cell_type": "markdown",
   "metadata": {},
   "source": [
    "# Modelling"
   ]
  },
  {
   "cell_type": "code",
   "execution_count": 3,
   "metadata": {},
   "outputs": [
    {
     "data": {
      "text/plain": [
       "'\\nThis example constructs a pipeline that does dimensionality reduction followed by prediction with a support vector\\nclassifier. It demonstrates the use of GridSearchCV and Pipeline to optimize over different classes of estimators \\nin a single CV run – unsupervised PCA and NMF dimensionality reductions are compared to univariate feature selection\\nduring the grid search.\\n\\nAdditionally, Pipeline can be instantiated with the memory argument to memoize the transformers within the pipeline,\\navoiding to fit again the same transformers over and over.\\n\\nNote that the use of memory to enable caching becomes interesting when the fitting of a transformer is costly.\\n'"
      ]
     },
     "execution_count": 3,
     "metadata": {},
     "output_type": "execute_result"
    }
   ],
   "source": [
    "\"\"\"\n",
    "This example constructs a pipeline that does dimensionality reduction followed by prediction with a support vector\n",
    "classifier. It demonstrates the use of GridSearchCV and Pipeline to optimize over different classes of estimators \n",
    "in a single CV run – unsupervised PCA and NMF dimensionality reductions are compared to univariate feature selection\n",
    "during the grid search.\n",
    "\n",
    "Additionally, Pipeline can be instantiated with the memory argument to memoize the transformers within the pipeline,\n",
    "avoiding to fit again the same transformers over and over.\n",
    "\n",
    "Note that the use of memory to enable caching becomes interesting when the fitting of a transformer is costly.\n",
    "\"\"\""
   ]
  },
  {
   "cell_type": "code",
   "execution_count": 4,
   "metadata": {},
   "outputs": [],
   "source": [
    "pipe = Pipeline([\n",
    "    # the reduce_dim stage is populated by the param_grid\n",
    "    ('reduce_dim', 'passthrough'),\n",
    "    ('classify', LinearSVC(dual=False, max_iter=10000))\n",
    "])\n",
    "\n",
    "N_FEATURES_OPTIONS = [2, 4, 8]\n",
    "C_OPTIONS = [1, 10, 100, 1000]\n",
    "param_grid = [\n",
    "    {\n",
    "        'reduce_dim': [PCA(iterated_power=7), NMF()],\n",
    "        'reduce_dim__n_components': N_FEATURES_OPTIONS,\n",
    "        'classify__C': C_OPTIONS\n",
    "    },\n",
    "    {\n",
    "        'reduce_dim': [SelectKBest(chi2)],\n",
    "        'reduce_dim__k': N_FEATURES_OPTIONS,\n",
    "        'classify__C': C_OPTIONS\n",
    "    },\n",
    "]\n",
    "reducer_labels = ['PCA', 'NMF', 'KBest(chi2)']\n",
    "\n",
    "grid = GridSearchCV(pipe, n_jobs=1, param_grid=param_grid)\n",
    "X, y = load_digits(return_X_y=True)\n",
    "grid.fit(X, y)\n",
    "\n",
    "mean_scores = np.array(grid.cv_results_['mean_test_score'])\n",
    "# scores are in the order of param_grid iteration, which is alphabetical\n",
    "mean_scores = mean_scores.reshape(len(C_OPTIONS), -1, len(N_FEATURES_OPTIONS))\n",
    "# select score for best C\n",
    "mean_scores = mean_scores.max(axis=0)\n",
    "bar_offsets = (np.arange(len(N_FEATURES_OPTIONS)) *\n",
    "               (len(reducer_labels) + 1) + .5)"
   ]
  },
  {
   "cell_type": "markdown",
   "metadata": {},
   "source": [
    "# Plotting"
   ]
  },
  {
   "cell_type": "code",
   "execution_count": 5,
   "metadata": {},
   "outputs": [
    {
     "data": {
      "image/png": "[encoded data removed]",
      "text/plain": [
       "<Figure size 432x288 with 1 Axes>"
      ]
     },
     "metadata": {
      "needs_background": "light"
     },
     "output_type": "display_data"
    }
   ],
   "source": [
    "plt.figure()\n",
    "COLORS = 'bgrcmyk'\n",
    "for i, (label, reducer_scores) in enumerate(zip(reducer_labels, mean_scores)):\n",
    "    plt.bar(bar_offsets + i, reducer_scores, label=label, color=COLORS[i])\n",
    "\n",
    "plt.title(\"Comparing feature reduction techniques\")\n",
    "plt.xlabel('Reduced number of features')\n",
    "plt.xticks(bar_offsets + len(reducer_labels) / 2, N_FEATURES_OPTIONS)\n",
    "plt.ylabel('Digit classification accuracy')\n",
    "plt.ylim((0, 1))\n",
    "plt.legend(loc='upper left')\n",
    "\n",
    "plt.show()\n"
   ]
  },
  {
   "cell_type": "markdown",
   "metadata": {},
   "source": [
    "# Caching transformers within a Pipeline"
   ]
  },
  {
   "cell_type": "code",
   "execution_count": 6,
   "metadata": {},
   "outputs": [
    {
     "data": {
      "text/plain": [
       "'\\nIt is sometimes worthwhile storing the state of a specific transformer since it could be used again. Using a\\npipeline in GridSearchCV triggers such situations. Therefore, we use the argument memory to enable caching.\\n\\nWARNING: Note that this example is, however, only an illustration since for this specific case fitting PCA is\\nnot necessarily slower than loading the cache. Hence, use the memory constructor parameter when the fitting of\\na transformer is costly. \\n'"
      ]
     },
     "execution_count": 6,
     "metadata": {},
     "output_type": "execute_result"
    }
   ],
   "source": [
    "\"\"\"\n",
    "It is sometimes worthwhile storing the state of a specific transformer since it could be used again. Using a\n",
    "pipeline in GridSearchCV triggers such situations. Therefore, we use the argument memory to enable caching.\n",
    "\n",
    "WARNING: Note that this example is, however, only an illustration since for this specific case fitting PCA is\n",
    "not necessarily slower than loading the cache. Hence, use the memory constructor parameter when the fitting of\n",
    "a transformer is costly. \n",
    "\"\"\""
   ]
  },
  {
   "cell_type": "code",
   "execution_count": 7,
   "metadata": {},
   "outputs": [],
   "source": [
    "# Create a temporary folder to store the transformers of the pipeline\n",
    "location = 'cachedir'\n",
    "memory = Memory(location=location, verbose=10)\n",
    "cached_pipe = Pipeline([('reduce_dim', PCA()),\n",
    "                        ('classify', LinearSVC(dual=False, max_iter=10000))],\n",
    "                       memory=memory)\n",
    "\n",
    "# This time, a cached pipeline will be used within the grid search\n",
    "\n",
    "\n",
    "# Delete the temporary cache before exiting\n",
    "memory.clear(warn=False)\n",
    "rmtree(location)"
   ]
  },
  {
   "cell_type": "code",
   "execution_count": 8,
   "metadata": {},
   "outputs": [
    {
     "data": {
      "text/plain": [
       "'\\nThe PCA fitting is only computed at the evaluation of the first configuration of the C parameter of the LinearSVC \\nclassifier. The other configurations of C will trigger the loading of the cached PCA estimator data, leading to \\nsave processing time. Therefore, the use of caching the pipeline using memory is highly beneficial when fitting a \\ntransformer is costly.\\n'"
      ]
     },
     "execution_count": 8,
     "metadata": {},
     "output_type": "execute_result"
    }
   ],
   "source": [
    "\"\"\"\n",
    "The PCA fitting is only computed at the evaluation of the first configuration of the C parameter of the LinearSVC \n",
    "classifier. The other configurations of C will trigger the loading of the cached PCA estimator data, leading to \n",
    "save processing time. Therefore, the use of caching the pipeline using memory is highly beneficial when fitting a \n",
    "transformer is costly.\n",
    "\"\"\""
   ]
  }
 ],
 "metadata": {
  "hide_input": false,
  "kernelspec": {
   "display_name": "trainingAI",
   "language": "python",
   "name": "trainingai"
  },
  "language_info": {
   "codemirror_mode": {
    "name": "ipython",
    "version": 3
   },
   "file_extension": ".py",
   "mimetype": "text/x-python",
   "name": "python",
   "nbconvert_exporter": "python",
   "pygments_lexer": "ipython3",
   "version": "3.8.5"
  }
 },
 "nbformat": 4,
 "nbformat_minor": 2
}
