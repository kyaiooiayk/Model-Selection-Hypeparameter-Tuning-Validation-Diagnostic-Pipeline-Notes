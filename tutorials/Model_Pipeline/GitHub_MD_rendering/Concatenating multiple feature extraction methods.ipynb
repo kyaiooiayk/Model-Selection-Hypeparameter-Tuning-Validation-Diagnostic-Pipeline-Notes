{
 "cells": [
  {
   "cell_type": "markdown",
   "metadata": {},
   "source": [
    "# Introduction"
   ]
  },
  {
   "cell_type": "code",
   "execution_count": null,
   "metadata": {},
   "outputs": [],
   "source": [
    "\"\"\"\n",
    "What? Concatenating multiple feature extraction methods\n",
    "\n",
    "Reference: https://scikit-learn.org/stable/auto_examples/compose/plot_feature_union.html#sphx-glr-auto-examples-compose-plot-feature-union-py\n",
    "\"\"\""
   ]
  },
  {
   "cell_type": "markdown",
   "metadata": {},
   "source": [
    "# Import"
   ]
  },
  {
   "cell_type": "code",
   "execution_count": 1,
   "metadata": {},
   "outputs": [],
   "source": [
    "from sklearn.pipeline import Pipeline, FeatureUnion\n",
    "from sklearn.model_selection import GridSearchCV\n",
    "from sklearn.svm import SVC\n",
    "from sklearn.datasets import load_iris\n",
    "from sklearn.decomposition import PCA\n",
    "from sklearn.feature_selection import SelectKBest"
   ]
  },
  {
   "cell_type": "markdown",
   "metadata": {},
   "source": [
    "# Load dataset"
   ]
  },
  {
   "cell_type": "code",
   "execution_count": 2,
   "metadata": {},
   "outputs": [],
   "source": [
    "iris = load_iris()\n",
    "X, y = iris.data, iris.target"
   ]
  },
  {
   "cell_type": "markdown",
   "metadata": {},
   "source": [
    "# Modelling"
   ]
  },
  {
   "cell_type": "code",
   "execution_count": null,
   "metadata": {},
   "outputs": [],
   "source": [
    "\"\"\"\n",
    "In many real-world examples, there are many ways to extract features from a dataset. Often it is beneficial \n",
    "to combine several methods to obtain good performance. This example shows how to use FeatureUnion to combine \n",
    "features obtained by PCA and univariate selection.\n",
    "\n",
    "Combining features using this transformer has the benefit that it allows cross validation and grid searches \n",
    "over the whole process.\n",
    "\n",
    "The combination used in this example is not particularly helpful on this dataset and is only used to illustrate\n",
    "the usage of FeatureUnion.\n",
    "\"\"\""
   ]
  },
  {
   "cell_type": "code",
   "execution_count": 4,
   "metadata": {},
   "outputs": [
    {
     "name": "stdout",
     "output_type": "stream",
     "text": [
      "Combined space has 3 features\n"
     ]
    }
   ],
   "source": [
    "# This dataset is way too high-dimensional. Better do PCA:\n",
    "pca = PCA(n_components=2)\n",
    "\n",
    "# Maybe some original features were good, too?\n",
    "selection = SelectKBest(k=1)\n",
    "\n",
    "# Build estimator from PCA and Univariate selection:\n",
    "\n",
    "combined_features = FeatureUnion([(\"pca\", pca), (\"univ_select\", selection)])\n",
    "\n",
    "# Use combined features to transform dataset:\n",
    "X_features = combined_features.fit(X, y).transform(X)\n",
    "print(\"Combined space has\", X_features.shape[1], \"features\")\n",
    "\n",
    "svm = SVC(kernel=\"linear\")"
   ]
  },
  {
   "cell_type": "markdown",
   "metadata": {},
   "source": [
    "# Perform grid search"
   ]
  },
  {
   "cell_type": "code",
   "execution_count": 5,
   "metadata": {},
   "outputs": [
    {
     "name": "stdout",
     "output_type": "stream",
     "text": [
      "Fitting 5 folds for each of 18 candidates, totalling 90 fits\n",
      "[CV 1/5; 1/18] START features__pca__n_components=1, features__univ_select__k=1, svm__C=0.1\n",
      "[CV 1/5; 1/18] END features__pca__n_components=1, features__univ_select__k=1, svm__C=0.1; total time=   0.0s\n",
      "[CV 2/5; 1/18] START features__pca__n_components=1, features__univ_select__k=1, svm__C=0.1\n",
      "[CV 2/5; 1/18] END features__pca__n_components=1, features__univ_select__k=1, svm__C=0.1; total time=   0.0s\n",
      "[CV 3/5; 1/18] START features__pca__n_components=1, features__univ_select__k=1, svm__C=0.1\n",
      "[CV 3/5; 1/18] END features__pca__n_components=1, features__univ_select__k=1, svm__C=0.1; total time=   0.0s\n",
      "[CV 4/5; 1/18] START features__pca__n_components=1, features__univ_select__k=1, svm__C=0.1\n",
      "[CV 4/5; 1/18] END features__pca__n_components=1, features__univ_select__k=1, svm__C=0.1; total time=   0.0s\n",
      "[CV 5/5; 1/18] START features__pca__n_components=1, features__univ_select__k=1, svm__C=0.1\n",
      "[CV 5/5; 1/18] END features__pca__n_components=1, features__univ_select__k=1, svm__C=0.1; total time=   0.0s\n",
      "[CV 1/5; 2/18] START features__pca__n_components=1, features__univ_select__k=1, svm__C=1\n",
      "[CV 1/5; 2/18] END features__pca__n_components=1, features__univ_select__k=1, svm__C=1; total time=   0.0s\n",
      "[CV 2/5; 2/18] START features__pca__n_components=1, features__univ_select__k=1, svm__C=1\n",
      "[CV 2/5; 2/18] END features__pca__n_components=1, features__univ_select__k=1, svm__C=1; total time=   0.0s\n",
      "[CV 3/5; 2/18] START features__pca__n_components=1, features__univ_select__k=1, svm__C=1\n",
      "[CV 3/5; 2/18] END features__pca__n_components=1, features__univ_select__k=1, svm__C=1; total time=   0.0s\n",
      "[CV 4/5; 2/18] START features__pca__n_components=1, features__univ_select__k=1, svm__C=1\n",
      "[CV 4/5; 2/18] END features__pca__n_components=1, features__univ_select__k=1, svm__C=1; total time=   0.0s\n",
      "[CV 5/5; 2/18] START features__pca__n_components=1, features__univ_select__k=1, svm__C=1\n",
      "[CV 5/5; 2/18] END features__pca__n_components=1, features__univ_select__k=1, svm__C=1; total time=   0.0s\n",
      "[CV 1/5; 3/18] START features__pca__n_components=1, features__univ_select__k=1, svm__C=10\n",
      "[CV 1/5; 3/18] END features__pca__n_components=1, features__univ_select__k=1, svm__C=10; total time=   0.0s\n",
      "[CV 2/5; 3/18] START features__pca__n_components=1, features__univ_select__k=1, svm__C=10\n",
      "[CV 2/5; 3/18] END features__pca__n_components=1, features__univ_select__k=1, svm__C=10; total time=   0.0s\n",
      "[CV 3/5; 3/18] START features__pca__n_components=1, features__univ_select__k=1, svm__C=10\n",
      "[CV 3/5; 3/18] END features__pca__n_components=1, features__univ_select__k=1, svm__C=10; total time=   0.0s\n",
      "[CV 4/5; 3/18] START features__pca__n_components=1, features__univ_select__k=1, svm__C=10\n",
      "[CV 4/5; 3/18] END features__pca__n_components=1, features__univ_select__k=1, svm__C=10; total time=   0.0s\n",
      "[CV 5/5; 3/18] START features__pca__n_components=1, features__univ_select__k=1, svm__C=10\n",
      "[CV 5/5; 3/18] END features__pca__n_components=1, features__univ_select__k=1, svm__C=10; total time=   0.0s\n",
      "[CV 1/5; 4/18] START features__pca__n_components=1, features__univ_select__k=2, svm__C=0.1\n",
      "[CV 1/5; 4/18] END features__pca__n_components=1, features__univ_select__k=2, svm__C=0.1; total time=   0.0s\n",
      "[CV 2/5; 4/18] START features__pca__n_components=1, features__univ_select__k=2, svm__C=0.1\n",
      "[CV 2/5; 4/18] END features__pca__n_components=1, features__univ_select__k=2, svm__C=0.1; total time=   0.0s\n",
      "[CV 3/5; 4/18] START features__pca__n_components=1, features__univ_select__k=2, svm__C=0.1\n",
      "[CV 3/5; 4/18] END features__pca__n_components=1, features__univ_select__k=2, svm__C=0.1; total time=   0.0s\n",
      "[CV 4/5; 4/18] START features__pca__n_components=1, features__univ_select__k=2, svm__C=0.1\n",
      "[CV 4/5; 4/18] END features__pca__n_components=1, features__univ_select__k=2, svm__C=0.1; total time=   0.0s\n",
      "[CV 5/5; 4/18] START features__pca__n_components=1, features__univ_select__k=2, svm__C=0.1\n",
      "[CV 5/5; 4/18] END features__pca__n_components=1, features__univ_select__k=2, svm__C=0.1; total time=   0.0s\n",
      "[CV 1/5; 5/18] START features__pca__n_components=1, features__univ_select__k=2, svm__C=1\n",
      "[CV 1/5; 5/18] END features__pca__n_components=1, features__univ_select__k=2, svm__C=1; total time=   0.0s\n",
      "[CV 2/5; 5/18] START features__pca__n_components=1, features__univ_select__k=2, svm__C=1\n",
      "[CV 2/5; 5/18] END features__pca__n_components=1, features__univ_select__k=2, svm__C=1; total time=   0.0s\n",
      "[CV 3/5; 5/18] START features__pca__n_components=1, features__univ_select__k=2, svm__C=1\n",
      "[CV 3/5; 5/18] END features__pca__n_components=1, features__univ_select__k=2, svm__C=1; total time=   0.0s\n",
      "[CV 4/5; 5/18] START features__pca__n_components=1, features__univ_select__k=2, svm__C=1\n",
      "[CV 4/5; 5/18] END features__pca__n_components=1, features__univ_select__k=2, svm__C=1; total time=   0.0s\n",
      "[CV 5/5; 5/18] START features__pca__n_components=1, features__univ_select__k=2, svm__C=1\n",
      "[CV 5/5; 5/18] END features__pca__n_components=1, features__univ_select__k=2, svm__C=1; total time=   0.0s\n",
      "[CV 1/5; 6/18] START features__pca__n_components=1, features__univ_select__k=2, svm__C=10\n",
      "[CV 1/5; 6/18] END features__pca__n_components=1, features__univ_select__k=2, svm__C=10; total time=   0.0s\n",
      "[CV 2/5; 6/18] START features__pca__n_components=1, features__univ_select__k=2, svm__C=10\n",
      "[CV 2/5; 6/18] END features__pca__n_components=1, features__univ_select__k=2, svm__C=10; total time=   0.0s\n",
      "[CV 3/5; 6/18] START features__pca__n_components=1, features__univ_select__k=2, svm__C=10\n",
      "[CV 3/5; 6/18] END features__pca__n_components=1, features__univ_select__k=2, svm__C=10; total time=   0.0s\n",
      "[CV 4/5; 6/18] START features__pca__n_components=1, features__univ_select__k=2, svm__C=10\n",
      "[CV 4/5; 6/18] END features__pca__n_components=1, features__univ_select__k=2, svm__C=10; total time=   0.0s\n",
      "[CV 5/5; 6/18] START features__pca__n_components=1, features__univ_select__k=2, svm__C=10\n",
      "[CV 5/5; 6/18] END features__pca__n_components=1, features__univ_select__k=2, svm__C=10; total time=   0.0s\n",
      "[CV 1/5; 7/18] START features__pca__n_components=2, features__univ_select__k=1, svm__C=0.1\n",
      "[CV 1/5; 7/18] END features__pca__n_components=2, features__univ_select__k=1, svm__C=0.1; total time=   0.0s\n",
      "[CV 2/5; 7/18] START features__pca__n_components=2, features__univ_select__k=1, svm__C=0.1\n",
      "[CV 2/5; 7/18] END features__pca__n_components=2, features__univ_select__k=1, svm__C=0.1; total time=   0.0s\n",
      "[CV 3/5; 7/18] START features__pca__n_components=2, features__univ_select__k=1, svm__C=0.1\n",
      "[CV 3/5; 7/18] END features__pca__n_components=2, features__univ_select__k=1, svm__C=0.1; total time=   0.0s\n",
      "[CV 4/5; 7/18] START features__pca__n_components=2, features__univ_select__k=1, svm__C=0.1\n",
      "[CV 4/5; 7/18] END features__pca__n_components=2, features__univ_select__k=1, svm__C=0.1; total time=   0.0s\n",
      "[CV 5/5; 7/18] START features__pca__n_components=2, features__univ_select__k=1, svm__C=0.1\n",
      "[CV 5/5; 7/18] END features__pca__n_components=2, features__univ_select__k=1, svm__C=0.1; total time=   0.0s\n",
      "[CV 1/5; 8/18] START features__pca__n_components=2, features__univ_select__k=1, svm__C=1\n",
      "[CV 1/5; 8/18] END features__pca__n_components=2, features__univ_select__k=1, svm__C=1; total time=   0.0s\n",
      "[CV 2/5; 8/18] START features__pca__n_components=2, features__univ_select__k=1, svm__C=1\n",
      "[CV 2/5; 8/18] END features__pca__n_components=2, features__univ_select__k=1, svm__C=1; total time=   0.0s\n",
      "[CV 3/5; 8/18] START features__pca__n_components=2, features__univ_select__k=1, svm__C=1\n",
      "[CV 3/5; 8/18] END features__pca__n_components=2, features__univ_select__k=1, svm__C=1; total time=   0.0s\n",
      "[CV 4/5; 8/18] START features__pca__n_components=2, features__univ_select__k=1, svm__C=1\n",
      "[CV 4/5; 8/18] END features__pca__n_components=2, features__univ_select__k=1, svm__C=1; total time=   0.0s\n",
      "[CV 5/5; 8/18] START features__pca__n_components=2, features__univ_select__k=1, svm__C=1\n",
      "[CV 5/5; 8/18] END features__pca__n_components=2, features__univ_select__k=1, svm__C=1; total time=   0.0s\n",
      "[CV 1/5; 9/18] START features__pca__n_components=2, features__univ_select__k=1, svm__C=10\n",
      "[CV 1/5; 9/18] END features__pca__n_components=2, features__univ_select__k=1, svm__C=10; total time=   0.0s\n",
      "[CV 2/5; 9/18] START features__pca__n_components=2, features__univ_select__k=1, svm__C=10\n",
      "[CV 2/5; 9/18] END features__pca__n_components=2, features__univ_select__k=1, svm__C=10; total time=   0.0s\n",
      "[CV 3/5; 9/18] START features__pca__n_components=2, features__univ_select__k=1, svm__C=10\n",
      "[CV 3/5; 9/18] END features__pca__n_components=2, features__univ_select__k=1, svm__C=10; total time=   0.0s\n",
      "[CV 4/5; 9/18] START features__pca__n_components=2, features__univ_select__k=1, svm__C=10\n",
      "[CV 4/5; 9/18] END features__pca__n_components=2, features__univ_select__k=1, svm__C=10; total time=   0.0s\n",
      "[CV 5/5; 9/18] START features__pca__n_components=2, features__univ_select__k=1, svm__C=10\n",
      "[CV 5/5; 9/18] END features__pca__n_components=2, features__univ_select__k=1, svm__C=10; total time=   0.0s\n",
      "[CV 1/5; 10/18] START features__pca__n_components=2, features__univ_select__k=2, svm__C=0.1\n",
      "[CV 1/5; 10/18] END features__pca__n_components=2, features__univ_select__k=2, svm__C=0.1; total time=   0.0s\n",
      "[CV 2/5; 10/18] START features__pca__n_components=2, features__univ_select__k=2, svm__C=0.1\n",
      "[CV 2/5; 10/18] END features__pca__n_components=2, features__univ_select__k=2, svm__C=0.1; total time=   0.0s\n",
      "[CV 3/5; 10/18] START features__pca__n_components=2, features__univ_select__k=2, svm__C=0.1\n",
      "[CV 3/5; 10/18] END features__pca__n_components=2, features__univ_select__k=2, svm__C=0.1; total time=   0.0s\n",
      "[CV 4/5; 10/18] START features__pca__n_components=2, features__univ_select__k=2, svm__C=0.1\n",
      "[CV 4/5; 10/18] END features__pca__n_components=2, features__univ_select__k=2, svm__C=0.1; total time=   0.0s\n",
      "[CV 5/5; 10/18] START features__pca__n_components=2, features__univ_select__k=2, svm__C=0.1\n",
      "[CV 5/5; 10/18] END features__pca__n_components=2, features__univ_select__k=2, svm__C=0.1; total time=   0.0s\n",
      "[CV 1/5; 11/18] START features__pca__n_components=2, features__univ_select__k=2, svm__C=1\n",
      "[CV 1/5; 11/18] END features__pca__n_components=2, features__univ_select__k=2, svm__C=1; total time=   0.0s\n",
      "[CV 2/5; 11/18] START features__pca__n_components=2, features__univ_select__k=2, svm__C=1\n",
      "[CV 2/5; 11/18] END features__pca__n_components=2, features__univ_select__k=2, svm__C=1; total time=   0.0s\n",
      "[CV 3/5; 11/18] START features__pca__n_components=2, features__univ_select__k=2, svm__C=1\n",
      "[CV 3/5; 11/18] END features__pca__n_components=2, features__univ_select__k=2, svm__C=1; total time=   0.0s\n",
      "[CV 4/5; 11/18] START features__pca__n_components=2, features__univ_select__k=2, svm__C=1\n",
      "[CV 4/5; 11/18] END features__pca__n_components=2, features__univ_select__k=2, svm__C=1; total time=   0.0s\n",
      "[CV 5/5; 11/18] START features__pca__n_components=2, features__univ_select__k=2, svm__C=1\n",
      "[CV 5/5; 11/18] END features__pca__n_components=2, features__univ_select__k=2, svm__C=1; total time=   0.0s\n",
      "[CV 1/5; 12/18] START features__pca__n_components=2, features__univ_select__k=2, svm__C=10\n",
      "[CV 1/5; 12/18] END features__pca__n_components=2, features__univ_select__k=2, svm__C=10; total time=   0.0s\n",
      "[CV 2/5; 12/18] START features__pca__n_components=2, features__univ_select__k=2, svm__C=10\n",
      "[CV 2/5; 12/18] END features__pca__n_components=2, features__univ_select__k=2, svm__C=10; total time=   0.0s\n",
      "[CV 3/5; 12/18] START features__pca__n_components=2, features__univ_select__k=2, svm__C=10\n",
      "[CV 3/5; 12/18] END features__pca__n_components=2, features__univ_select__k=2, svm__C=10; total time=   0.0s\n",
      "[CV 4/5; 12/18] START features__pca__n_components=2, features__univ_select__k=2, svm__C=10\n",
      "[CV 4/5; 12/18] END features__pca__n_components=2, features__univ_select__k=2, svm__C=10; total time=   0.0s\n",
      "[CV 5/5; 12/18] START features__pca__n_components=2, features__univ_select__k=2, svm__C=10\n",
      "[CV 5/5; 12/18] END features__pca__n_components=2, features__univ_select__k=2, svm__C=10; total time=   0.0s\n",
      "[CV 1/5; 13/18] START features__pca__n_components=3, features__univ_select__k=1, svm__C=0.1\n",
      "[CV 1/5; 13/18] END features__pca__n_components=3, features__univ_select__k=1, svm__C=0.1; total time=   0.0s\n",
      "[CV 2/5; 13/18] START features__pca__n_components=3, features__univ_select__k=1, svm__C=0.1\n",
      "[CV 2/5; 13/18] END features__pca__n_components=3, features__univ_select__k=1, svm__C=0.1; total time=   0.0s\n",
      "[CV 3/5; 13/18] START features__pca__n_components=3, features__univ_select__k=1, svm__C=0.1\n",
      "[CV 3/5; 13/18] END features__pca__n_components=3, features__univ_select__k=1, svm__C=0.1; total time=   0.0s\n",
      "[CV 4/5; 13/18] START features__pca__n_components=3, features__univ_select__k=1, svm__C=0.1\n",
      "[CV 4/5; 13/18] END features__pca__n_components=3, features__univ_select__k=1, svm__C=0.1; total time=   0.0s\n",
      "[CV 5/5; 13/18] START features__pca__n_components=3, features__univ_select__k=1, svm__C=0.1\n",
      "[CV 5/5; 13/18] END features__pca__n_components=3, features__univ_select__k=1, svm__C=0.1; total time=   0.0s\n",
      "[CV 1/5; 14/18] START features__pca__n_components=3, features__univ_select__k=1, svm__C=1\n",
      "[CV 1/5; 14/18] END features__pca__n_components=3, features__univ_select__k=1, svm__C=1; total time=   0.0s\n",
      "[CV 2/5; 14/18] START features__pca__n_components=3, features__univ_select__k=1, svm__C=1\n",
      "[CV 2/5; 14/18] END features__pca__n_components=3, features__univ_select__k=1, svm__C=1; total time=   0.0s\n",
      "[CV 3/5; 14/18] START features__pca__n_components=3, features__univ_select__k=1, svm__C=1\n",
      "[CV 3/5; 14/18] END features__pca__n_components=3, features__univ_select__k=1, svm__C=1; total time=   0.0s\n",
      "[CV 4/5; 14/18] START features__pca__n_components=3, features__univ_select__k=1, svm__C=1\n",
      "[CV 4/5; 14/18] END features__pca__n_components=3, features__univ_select__k=1, svm__C=1; total time=   0.0s\n",
      "[CV 5/5; 14/18] START features__pca__n_components=3, features__univ_select__k=1, svm__C=1\n",
      "[CV 5/5; 14/18] END features__pca__n_components=3, features__univ_select__k=1, svm__C=1; total time=   0.0s\n",
      "[CV 1/5; 15/18] START features__pca__n_components=3, features__univ_select__k=1, svm__C=10\n",
      "[CV 1/5; 15/18] END features__pca__n_components=3, features__univ_select__k=1, svm__C=10; total time=   0.0s\n",
      "[CV 2/5; 15/18] START features__pca__n_components=3, features__univ_select__k=1, svm__C=10\n",
      "[CV 2/5; 15/18] END features__pca__n_components=3, features__univ_select__k=1, svm__C=10; total time=   0.0s\n",
      "[CV 3/5; 15/18] START features__pca__n_components=3, features__univ_select__k=1, svm__C=10\n",
      "[CV 3/5; 15/18] END features__pca__n_components=3, features__univ_select__k=1, svm__C=10; total time=   0.0s\n",
      "[CV 4/5; 15/18] START features__pca__n_components=3, features__univ_select__k=1, svm__C=10\n",
      "[CV 4/5; 15/18] END features__pca__n_components=3, features__univ_select__k=1, svm__C=10; total time=   0.0s\n",
      "[CV 5/5; 15/18] START features__pca__n_components=3, features__univ_select__k=1, svm__C=10\n"
     ]
    },
    {
     "name": "stdout",
     "output_type": "stream",
     "text": [
      "[CV 5/5; 15/18] END features__pca__n_components=3, features__univ_select__k=1, svm__C=10; total time=   0.0s\n",
      "[CV 1/5; 16/18] START features__pca__n_components=3, features__univ_select__k=2, svm__C=0.1\n",
      "[CV 1/5; 16/18] END features__pca__n_components=3, features__univ_select__k=2, svm__C=0.1; total time=   0.0s\n",
      "[CV 2/5; 16/18] START features__pca__n_components=3, features__univ_select__k=2, svm__C=0.1\n",
      "[CV 2/5; 16/18] END features__pca__n_components=3, features__univ_select__k=2, svm__C=0.1; total time=   0.0s\n",
      "[CV 3/5; 16/18] START features__pca__n_components=3, features__univ_select__k=2, svm__C=0.1\n",
      "[CV 3/5; 16/18] END features__pca__n_components=3, features__univ_select__k=2, svm__C=0.1; total time=   0.0s\n",
      "[CV 4/5; 16/18] START features__pca__n_components=3, features__univ_select__k=2, svm__C=0.1\n",
      "[CV 4/5; 16/18] END features__pca__n_components=3, features__univ_select__k=2, svm__C=0.1; total time=   0.0s\n",
      "[CV 5/5; 16/18] START features__pca__n_components=3, features__univ_select__k=2, svm__C=0.1\n",
      "[CV 5/5; 16/18] END features__pca__n_components=3, features__univ_select__k=2, svm__C=0.1; total time=   0.0s\n",
      "[CV 1/5; 17/18] START features__pca__n_components=3, features__univ_select__k=2, svm__C=1\n",
      "[CV 1/5; 17/18] END features__pca__n_components=3, features__univ_select__k=2, svm__C=1; total time=   0.0s\n",
      "[CV 2/5; 17/18] START features__pca__n_components=3, features__univ_select__k=2, svm__C=1\n",
      "[CV 2/5; 17/18] END features__pca__n_components=3, features__univ_select__k=2, svm__C=1; total time=   0.0s\n",
      "[CV 3/5; 17/18] START features__pca__n_components=3, features__univ_select__k=2, svm__C=1\n",
      "[CV 3/5; 17/18] END features__pca__n_components=3, features__univ_select__k=2, svm__C=1; total time=   0.0s\n",
      "[CV 4/5; 17/18] START features__pca__n_components=3, features__univ_select__k=2, svm__C=1\n",
      "[CV 4/5; 17/18] END features__pca__n_components=3, features__univ_select__k=2, svm__C=1; total time=   0.0s\n",
      "[CV 5/5; 17/18] START features__pca__n_components=3, features__univ_select__k=2, svm__C=1\n",
      "[CV 5/5; 17/18] END features__pca__n_components=3, features__univ_select__k=2, svm__C=1; total time=   0.0s\n",
      "[CV 1/5; 18/18] START features__pca__n_components=3, features__univ_select__k=2, svm__C=10\n",
      "[CV 1/5; 18/18] END features__pca__n_components=3, features__univ_select__k=2, svm__C=10; total time=   0.0s\n",
      "[CV 2/5; 18/18] START features__pca__n_components=3, features__univ_select__k=2, svm__C=10\n",
      "[CV 2/5; 18/18] END features__pca__n_components=3, features__univ_select__k=2, svm__C=10; total time=   0.0s\n",
      "[CV 3/5; 18/18] START features__pca__n_components=3, features__univ_select__k=2, svm__C=10\n",
      "[CV 3/5; 18/18] END features__pca__n_components=3, features__univ_select__k=2, svm__C=10; total time=   0.0s\n",
      "[CV 4/5; 18/18] START features__pca__n_components=3, features__univ_select__k=2, svm__C=10\n",
      "[CV 4/5; 18/18] END features__pca__n_components=3, features__univ_select__k=2, svm__C=10; total time=   0.0s\n",
      "[CV 5/5; 18/18] START features__pca__n_components=3, features__univ_select__k=2, svm__C=10\n",
      "[CV 5/5; 18/18] END features__pca__n_components=3, features__univ_select__k=2, svm__C=10; total time=   0.0s\n",
      "Pipeline(steps=[('features',\n",
      "                 FeatureUnion(transformer_list=[('pca', PCA(n_components=3)),\n",
      "                                                ('univ_select',\n",
      "                                                 SelectKBest(k=1))])),\n",
      "                ('svm', SVC(C=10, kernel='linear'))])\n"
     ]
    }
   ],
   "source": [
    "# Do grid search over k, n_components and C:\n",
    "\n",
    "pipeline = Pipeline([(\"features\", combined_features), (\"svm\", svm)])\n",
    "\n",
    "param_grid = dict(features__pca__n_components=[1, 2, 3],\n",
    "                  features__univ_select__k=[1, 2],\n",
    "                  svm__C=[0.1, 1, 10])\n",
    "\n",
    "grid_search = GridSearchCV(pipeline, param_grid=param_grid, verbose=10)\n",
    "grid_search.fit(X, y)\n",
    "print(grid_search.best_estimator_)"
   ]
  },
  {
   "cell_type": "code",
   "execution_count": null,
   "metadata": {},
   "outputs": [],
   "source": []
  }
 ],
 "metadata": {
  "hide_input": false,
  "kernelspec": {
   "display_name": "trainingAI",
   "language": "python",
   "name": "trainingai"
  },
  "language_info": {
   "codemirror_mode": {
    "name": "ipython",
    "version": 3
   },
   "file_extension": ".py",
   "mimetype": "text/x-python",
   "name": "python",
   "nbconvert_exporter": "python",
   "pygments_lexer": "ipython3",
   "version": "3.8.5"
  }
 },
 "nbformat": 4,
 "nbformat_minor": 2
}
